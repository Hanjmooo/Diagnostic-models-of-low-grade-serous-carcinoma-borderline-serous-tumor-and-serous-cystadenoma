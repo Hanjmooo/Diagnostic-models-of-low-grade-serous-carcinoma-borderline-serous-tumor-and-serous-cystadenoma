{
 "cells": [
  {
   "cell_type": "code",
   "execution_count": 1,
   "metadata": {
    "ExecuteTime": {
     "end_time": "2021-10-19T08:41:31.211429Z",
     "start_time": "2021-10-19T08:41:30.723628Z"
    }
   },
   "outputs": [],
   "source": [
    "#import SimpleITK as sitk\n",
    "import pandas as pd\n",
    "import numpy as np\n",
    "import glob\n",
    "import os\n",
    "import radiomics\n",
    "from radiomics import featureextractor, getTestCase"
   ]
  },
  {
   "cell_type": "code",
   "execution_count": 2,
   "metadata": {
    "ExecuteTime": {
     "end_time": "2021-10-19T08:41:36.782376Z",
     "start_time": "2021-10-19T08:41:36.755448Z"
    }
   },
   "outputs": [],
   "source": [
    "extractor = featureextractor.RadiomicsFeatureExtractor('exampleCT.yaml')"
   ]
  },
  {
   "cell_type": "code",
   "execution_count": 3,
   "metadata": {},
   "outputs": [],
   "source": [
    "features = []\n",
    "names=[]\n",
    "filePath = 'F:\\Cystadenoma'\n",
    "num=os.listdir(filePath)\n",
    "for i,filename in enumerate(num):\n",
    "    img_path=os.path.join('F:\\Cystadenoma',filename,'main.nrrd')\n",
    "    seg_path=os.path.join('F:\\Cystadenoma',filename,'Segmentation.nrrd')\n",
    "    #print(i)\n",
    "    #print(img_path)\n",
    "    #print(seg_path)\n",
    "    img = sitk.ReadImage(img_path)\n",
    "    seg = sitk.ReadImage(seg_path)\n",
    "    result = extractor.execute(img, seg)\n",
    "    features.append(result)\n",
    "    names.append(filename)\n",
    "    #print('病人姓名为：',names)"
   ]
  },
  {
   "cell_type": "code",
   "execution_count": 5,
   "metadata": {},
   "outputs": [
    {
     "data": {
      "text/plain": [
       "104"
      ]
     },
     "execution_count": 5,
     "metadata": {},
     "output_type": "execute_result"
    }
   ],
   "source": [
    "len(features)"
   ]
  },
  {
   "cell_type": "code",
   "execution_count": 6,
   "metadata": {
    "ExecuteTime": {
     "end_time": "2021-10-19T11:22:35.303070Z",
     "start_time": "2021-10-19T11:22:35.293095Z"
    }
   },
   "outputs": [
    {
     "data": {
      "text/plain": [
       "825"
      ]
     },
     "execution_count": 6,
     "metadata": {},
     "output_type": "execute_result"
    }
   ],
   "source": [
    "len(result)"
   ]
  },
  {
   "cell_type": "code",
   "execution_count": 8,
   "metadata": {},
   "outputs": [],
   "source": [
    "feature_names = list(sorted(filter(lambda k: k.startswith(\"original_\"), features[1])))"
   ]
  },
  {
   "cell_type": "code",
   "execution_count": 10,
   "metadata": {
    "ExecuteTime": {
     "end_time": "2021-10-19T11:23:05.913297Z",
     "start_time": "2021-10-19T11:23:05.910260Z"
    },
    "collapsed": true
   },
   "outputs": [
    {
     "data": {
      "text/plain": [
       "100"
      ]
     },
     "execution_count": 10,
     "metadata": {},
     "output_type": "execute_result"
    }
   ],
   "source": [
    "len(feature_names)"
   ]
  },
  {
   "cell_type": "code",
   "execution_count": 11,
   "metadata": {
    "ExecuteTime": {
     "end_time": "2021-10-19T11:23:17.176771Z",
     "start_time": "2021-10-19T11:23:17.172782Z"
    }
   },
   "outputs": [],
   "source": [
    "samples = np.zeros((len(features),len(feature_names)))\n",
    "for case_id in range(len(features)):\n",
    "    a = np.array([])\n",
    "    for feature_name in feature_names:\n",
    "        a = np.append(a, features[case_id][feature_name])\n",
    "    samples[case_id,:] = a\n",
    "    \n",
    "# May have NaNs\n",
    "samples = np.nan_to_num(samples)"
   ]
  },
  {
   "cell_type": "code",
   "execution_count": 12,
   "metadata": {
    "ExecuteTime": {
     "end_time": "2021-10-19T11:23:33.009674Z",
     "start_time": "2021-10-19T11:23:32.973770Z"
    },
    "collapsed": true
   },
   "outputs": [],
   "source": [
    "df = pd.DataFrame(data=samples, columns=feature_names,index=names)\n",
    "df.to_excel(r'F:\\Desktop\\Cystadenoma_features.xlsx',index=names)"
   ]
  }
 ],
 "metadata": {
  "kernelspec": {
   "display_name": "Python 3 (ipykernel)",
   "language": "python",
   "name": "python3"
  },
  "language_info": {
   "codemirror_mode": {
    "name": "ipython",
    "version": 3
   },
   "file_extension": ".py",
   "mimetype": "text/x-python",
   "name": "python",
   "nbconvert_exporter": "python",
   "pygments_lexer": "ipython3",
   "version": "3.11.3"
  },
  "toc": {
   "base_numbering": 1,
   "nav_menu": {},
   "number_sections": true,
   "sideBar": true,
   "skip_h1_title": false,
   "title_cell": "Table of Contents",
   "title_sidebar": "Contents",
   "toc_cell": false,
   "toc_position": {},
   "toc_section_display": true,
   "toc_window_display": false
  }
 },
 "nbformat": 4,
 "nbformat_minor": 2
}
